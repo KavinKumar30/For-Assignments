{
 "cells": [
  {
   "cell_type": "markdown",
   "id": "9684951b",
   "metadata": {},
   "source": [
    "# LINEAR DATA STRUCTURES ASSIGNMENT:"
   ]
  },
  {
   "cell_type": "markdown",
   "id": "a4bc0d86",
   "metadata": {},
   "source": [
    "\n",
    "\n",
    "**1. Write a program to find all pairs of an integer array whose sum is equal to a given number**"
   ]
  },
  {
   "cell_type": "code",
   "execution_count": 3,
   "id": "a956314a",
   "metadata": {},
   "outputs": [
    {
     "name": "stdout",
     "output_type": "stream",
     "text": [
      "Arrays= [1, 2, 3, 4, 5, 6, 7, 8, 9, 10]\n",
      "Pairs whose sum is:  6\n",
      "1 5\n",
      "2 4\n",
      "3 3\n"
     ]
    }
   ],
   "source": [
    "def find(array, len, summ):\n",
    "    print(\"Pairs whose sum is: \", summ)\n",
    "    for i in range(len):\n",
    "        for j in range(i, len):\n",
    "            if (array[i] + array[j]) == summ:\n",
    "                print(array[i], array[j])\n",
    "\n",
    "array = [1, 2, 3, 4, 5, 6, 7, 8, 9, 10]\n",
    "\n",
    "summ = 6\n",
    "\n",
    "print(\"Arrays=\", array)\n",
    "\n",
    "find(array, len(array), summ)\n"
   ]
  },
  {
   "cell_type": "markdown",
   "id": "c765f941",
   "metadata": {},
   "source": [
    "**2. Write a program to reverse an array in place.**\n",
    "\n",
    "**In place means you cannot create a new array.**\n",
    "\n",
    "**You have to update the original array.**"
   ]
  },
  {
   "cell_type": "code",
   "execution_count": 4,
   "id": "0ddf117e",
   "metadata": {},
   "outputs": [
    {
     "data": {
      "text/plain": [
       "[4, 3, 3, 1]"
      ]
     },
     "execution_count": 4,
     "metadata": {},
     "output_type": "execute_result"
    }
   ],
   "source": [
    "def reverse_array(arr):\n",
    "    \n",
    "    for i in range(len(arr)//2):\n",
    "        \n",
    "        arr[i],arr[len(arr)-i-1] = arr[len(arr)-i-1],arr[i]\n",
    "        \n",
    "        return arr\n",
    "    \n",
    "reverse_array([1,3,3,4])    "
   ]
  },
  {
   "cell_type": "markdown",
   "id": "d6cdc3f8",
   "metadata": {},
   "source": [
    "**3. Write a program to check if two strings are a rotation of each other**"
   ]
  },
  {
   "cell_type": "code",
   "execution_count": 7,
   "id": "d8186a20",
   "metadata": {},
   "outputs": [
    {
     "name": "stdout",
     "output_type": "stream",
     "text": [
      "The rotations of two strings are:  True\n"
     ]
    }
   ],
   "source": [
    "def check_rotation(s1,s2):\n",
    "    if len(s1)!=len(s2):\n",
    "        return False\n",
    "    \n",
    "    if s1 in(s2+s2):\n",
    "        return True\n",
    "    return False\n",
    "\n",
    "print(\"The rotations of two strings are: \", check_rotation(\"abcd\",\"cdab\"))"
   ]
  },
  {
   "cell_type": "markdown",
   "id": "c2623bc2",
   "metadata": {},
   "source": [
    "**4. Write a program to print the first non-repeated character from a string**"
   ]
  },
  {
   "cell_type": "code",
   "execution_count": 8,
   "id": "056c7e63",
   "metadata": {},
   "outputs": [
    {
     "name": "stdout",
     "output_type": "stream",
     "text": [
      "The first non_repeated character is:  K\n"
     ]
    }
   ],
   "source": [
    "def non_repeated(string):\n",
    "    for i in string:\n",
    "        if string.count(i) == 1:\n",
    "            return i\n",
    "        \n",
    "print(\"The first non_repeated character is: \", non_repeated(\"Kavin\"))        \n",
    "        "
   ]
  },
  {
   "cell_type": "markdown",
   "id": "5acbee53",
   "metadata": {},
   "source": [
    "**5. Read about the Tower of Hanoi algorithm. Write a program to implement it.**"
   ]
  },
  {
   "cell_type": "code",
   "execution_count": 2,
   "id": "97ca8be9",
   "metadata": {},
   "outputs": [
    {
     "name": "stdout",
     "output_type": "stream",
     "text": [
      "Enter the no of disks: 3\n",
      "Move disk 1 from A to C\n",
      "Move disk 2 from A to B\n",
      "Move disk 1 from C to B\n",
      "Move disk 3 from A to C\n",
      "Move disk 1 from B to A\n",
      "Move disk 2 from B to C\n",
      "Move disk 1 from A to C\n"
     ]
    }
   ],
   "source": [
    "def TowerOfHanoi(n , source, destination, auxiliary):\n",
    "    if n==1:\n",
    "        print(f\"Move disk 1 from {source} to {destination}\")\n",
    "        return\n",
    "    TowerOfHanoi(n-1, source, auxiliary, destination)\n",
    "    print(f\"Move disk {n} from {source} to {destination}\")\n",
    "    TowerOfHanoi(n-1, auxiliary, destination, source)\n",
    "    \n",
    "n = int(input(\"Enter the no of disks: \")) \n",
    "TowerOfHanoi(n, 'A', 'C', 'B')"
   ]
  },
  {
   "cell_type": "markdown",
   "id": "e0788696",
   "metadata": {},
   "source": [
    "**6. Read about infix, prefix, and postfix expressions. Write a program to convert postfix to prefix expression**"
   ]
  },
  {
   "cell_type": "code",
   "execution_count": 9,
   "id": "c77cdf07",
   "metadata": {},
   "outputs": [
    {
     "name": "stdout",
     "output_type": "stream",
     "text": [
      "The expression for postifix_to_prefix is:  -(*(+(2)(3))(4))(5)\n"
     ]
    }
   ],
   "source": [
    "def postfix_to_prefix(postfix):\n",
    "    stack = []\n",
    "    for symbol in postfix:\n",
    "        if symbol.isalnum():\n",
    "            stack.append(symbol)\n",
    "        else:\n",
    "            operand2 = stack.pop()\n",
    "            operand1 = stack.pop()\n",
    "            prefix = symbol + '(' + operand1 + ')' + '(' + operand2 + ')'\n",
    "            stack.append(prefix)\n",
    "    return stack.pop()\n",
    "\n",
    "postfix_expression = \"23+4*5-\"\n",
    "prefix_expression = postfix_to_prefix(postfix_expression)\n",
    "print(\"The expression for postifix_to_prefix is: \", prefix_expression) \n"
   ]
  },
  {
   "cell_type": "markdown",
   "id": "eaf17d98",
   "metadata": {},
   "source": [
    "**7. Write a program to convert prefix expression to infix expression.**"
   ]
  },
  {
   "cell_type": "code",
   "execution_count": 11,
   "id": "992618ea",
   "metadata": {},
   "outputs": [
    {
     "name": "stdout",
     "output_type": "stream",
     "text": [
      "The conversion for prefix_to_infix is:  ((A+B)*(C-D))\n"
     ]
    }
   ],
   "source": [
    "def prefix_to_infix(expression):\n",
    "    operators = set(['+', '-', '*', '^'])\n",
    "    stack = []\n",
    "    for i in range(len(expression) - 1, -1, -1):\n",
    "        if expression[i] in operators:\n",
    "            op1 = stack.pop()\n",
    "            op2 = stack.pop()\n",
    "            stack.append('(' + op1 + expression[i] + op2 + ')')\n",
    "        else:\n",
    "            stack.append(expression[i])\n",
    "    return stack.pop()\n",
    "\n",
    "expression = '*+AB-CD'\n",
    "infix_expression = prefix_to_infix(expression)\n",
    "print(\"The conversion for prefix_to_infix is: \", infix_expression)"
   ]
  },
  {
   "cell_type": "markdown",
   "id": "2024433b",
   "metadata": {},
   "source": [
    "**8.Write a program to check if all the brackets are closed in a given code snippet.**\n"
   ]
  },
  {
   "cell_type": "code",
   "execution_count": 5,
   "id": "bddbc38d",
   "metadata": {},
   "outputs": [
    {
     "name": "stdout",
     "output_type": "stream",
     "text": [
      "All brackets are closed properly \n"
     ]
    }
   ],
   "source": [
    "def is_brackets_closed(code):\n",
    "    stack = []\n",
    "    opening_brackets = \"({[\"\n",
    "    closing_brackets = \")}]\"\n",
    "    for char in code:\n",
    "        if char in opening_brackets:\n",
    "            stack.append(char)\n",
    "        elif char in closing_brackets:\n",
    "            if not stack:\n",
    "                return False\n",
    "            top = stack.pop()\n",
    "            if opening_brackets.index(top) != closing_brackets.index(char):\n",
    "                return False\n",
    "    return not stack\n",
    "\n",
    "code_snippet = \"if (x > 5) {y = (x + 2) * [3 + 4]: }\"\n",
    "if is_brackets_closed(code_snippet):\n",
    "    print(\"All brackets are closed properly \")\n",
    "else:\n",
    "    print(\"Some brackets are not closed properly \")"
   ]
  },
  {
   "cell_type": "markdown",
   "id": "dad2af9b",
   "metadata": {},
   "source": [
    "**9. Write a program to reverse a stack.**"
   ]
  },
  {
   "cell_type": "code",
   "execution_count": 4,
   "id": "aa0685ca",
   "metadata": {},
   "outputs": [
    {
     "name": "stdout",
     "output_type": "stream",
     "text": [
      "The reversed stack is: [5, 4, 3, 2, 1]\n"
     ]
    }
   ],
   "source": [
    "def reverse_stack(stack):\n",
    "    \n",
    "    reversed_stack = []\n",
    "\n",
    "    while stack:\n",
    "        element = stack.pop()\n",
    "        reversed_stack.append(element)\n",
    "\n",
    "    return reversed_stack\n",
    "\n",
    "stack = [1, 2, 3, 4, 5]\n",
    "reversed_stack = reverse_stack(stack)\n",
    "print(\"The reversed stack is:\", reversed_stack)"
   ]
  },
  {
   "cell_type": "markdown",
   "id": "0d161c19",
   "metadata": {},
   "source": [
    "**10. Write a program to find the smallest number using a stack**"
   ]
  },
  {
   "cell_type": "code",
   "execution_count": 6,
   "id": "50e11a39",
   "metadata": {},
   "outputs": [
    {
     "data": {
      "text/plain": [
       "1"
      ]
     },
     "execution_count": 6,
     "metadata": {},
     "output_type": "execute_result"
    }
   ],
   "source": [
    "def find_min(n1,n2):\n",
    "    if n1 > n2:\n",
    "        return n2\n",
    "    return n1\n",
    "\n",
    "def find_min_stack(stack):\n",
    "    smallest = stack.pop()\n",
    "    while stack:\n",
    "        smallest = find_min(smallest,stack.pop())\n",
    "    return smallest\n",
    "\n",
    "find_min_stack([6,8,7,3,4,1,2])\n",
    "        "
   ]
  }
 ],
 "metadata": {
  "kernelspec": {
   "display_name": "Python 3 (ipykernel)",
   "language": "python",
   "name": "python3"
  },
  "language_info": {
   "codemirror_mode": {
    "name": "ipython",
    "version": 3
   },
   "file_extension": ".py",
   "mimetype": "text/x-python",
   "name": "python",
   "nbconvert_exporter": "python",
   "pygments_lexer": "ipython3",
   "version": "3.9.13"
  }
 },
 "nbformat": 4,
 "nbformat_minor": 5
}
