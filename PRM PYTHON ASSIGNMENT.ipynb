{
 "cells": [
  {
   "cell_type": "markdown",
   "id": "17806c2f",
   "metadata": {},
   "source": [
    "# ASSIGNMENT\n"
   ]
  },
  {
   "cell_type": "markdown",
   "id": "d3a1d5c2",
   "metadata": {},
   "source": [
    "Python Candidates - Question 1\n",
    "\n",
    "\n",
    "\n",
    "You will have a number of elements and in the next n lines element of a list. You have to create a list from the given strings. You have to sort the list based on 2nd last character of a string\n",
    "\n",
    "\n",
    "\n",
    "For example: Given list = ['great','hello','hiyo','abc'] So your output_dictionary should be ['great','abc','hello','hiyo']\n",
    "\n",
    "\n",
    "\n",
    "Input format:\n",
    "\n",
    "\n",
    "\n",
    "At first-line it will have an integer (number of elements inside a list). In the second line it will have a string\n",
    "\n",
    "\n",
    "\n",
    "Output Format:\n",
    "\n",
    "\n",
    "\n",
    "A single line containing a sorted list"
   ]
  },
  {
   "cell_type": "code",
   "execution_count": 2,
   "id": "56dcb6e7",
   "metadata": {},
   "outputs": [
    {
     "name": "stdout",
     "output_type": "stream",
     "text": [
      "4\n",
      "great\n",
      "hello\n",
      "hiyo\n",
      "abc\n",
      "['great', 'abc', 'hello', 'hiyo']\n"
     ]
    }
   ],
   "source": [
    "n = int(input())\n",
    "string_list = []\n",
    "for i in range(n):\n",
    "    string_list.append(input().strip())\n",
    "\n",
    "sorted_list = sorted(string_list, key=lambda x: x[-2])\n",
    "\n",
    "print(sorted_list)"
   ]
  },
  {
   "cell_type": "code",
   "execution_count": null,
   "id": "6bfa7e4e",
   "metadata": {},
   "outputs": [],
   "source": []
  },
  {
   "cell_type": "markdown",
   "id": "a4073b62",
   "metadata": {},
   "source": [
    "2. Question\n",
    "\n",
    "Python Candidates\n",
    "Your task is to complete the validate_triangle and the validate_rectangle functions for the classes. Hint for validating is given in the comments of the code. Also you will have to fill the following after validation in respective functions:\n",
    "\n",
    "Invalid triangle: If the triangle sum property of sides is not valid (more hints in the comments of the code)\n",
    "Valid Triangle: If the triangle sum property of sides is valid\n",
    "Valid rectangle: If 2 side pairs are same and they are input in correct order like l,b,l,b\n",
    "Invalid rectangle: If Not Valid rectangle as stated above\n",
    "\n",
    "Input format\n",
    "\n",
    "The side length of the triangle followed by for rectangle in the next line in order\n",
    "Output format:\n",
    "Since objects are created in order, so first validate info about triangle will come and then rectangle\n",
    "\n",
    "Sample input:0\n",
    "3 4 5\n",
    "24 2 4\n",
    "Sample Output:0\n",
    "Valid Triangle\n",
    "Valid Rectangle\n",
    "\n"
   ]
  },
  {
   "cell_type": "code",
   "execution_count": 3,
   "id": "21fa3a57",
   "metadata": {},
   "outputs": [
    {
     "name": "stdout",
     "output_type": "stream",
     "text": [
      "3 4 5\n",
      "4 3 4 3\n",
      "Valid Triangle\n",
      "Valid Rectangle\n"
     ]
    }
   ],
   "source": [
    "class Shape:\n",
    "    def __init__(self, sides):\n",
    "        self.sides = sides\n",
    "\n",
    "\n",
    "class Triangle(Shape):\n",
    "    def __init__(self, sides):\n",
    "        super().__init__(sides)\n",
    "\n",
    "    def validate_triangle(self):\n",
    "        try:\n",
    "            a, b, c = self.sides\n",
    "            if (a + b > c) and (a + c > b) and (b + c > a):\n",
    "                print(\"Valid Triangle\")\n",
    "            else:\n",
    "                print(\"Invalid triangle\")\n",
    "        except ValueError:\n",
    "            print(\"Invalid number of sides for triangle\")\n",
    "\n",
    "class Rectangle(Shape):\n",
    "    def __init__(self, sides):\n",
    "        super().__init__(sides)\n",
    "\n",
    "    def validate_rectangle(self):\n",
    "        try:\n",
    "            a, b, c, d = self.sides\n",
    "            if a == c and b == d:\n",
    "                print(\"Valid Rectangle\")\n",
    "            elif a == b and c == d:\n",
    "                print(\"Valid Rectangle\")\n",
    "            elif a == d and c == b:\n",
    "                print(\"Valid Rectangle\")\n",
    "            else:\n",
    "                print(\"Invalid Rectangle\")\n",
    "        except ValueError:\n",
    "            print(\"Invalid number of sides for rectangle\")\n",
    "\n",
    "t_sides = list(map(int, input().split()))\n",
    "r_sides = list(map(int, input().split()))\n",
    "\n",
    "t = Triangle(t_sides)\n",
    "r = Rectangle(r_sides)\n",
    "\n",
    "t.validate_triangle()\n",
    "r.validate_rectangle()\n",
    "\n"
   ]
  }
 ],
 "metadata": {
  "kernelspec": {
   "display_name": "Python 3 (ipykernel)",
   "language": "python",
   "name": "python3"
  },
  "language_info": {
   "codemirror_mode": {
    "name": "ipython",
    "version": 3
   },
   "file_extension": ".py",
   "mimetype": "text/x-python",
   "name": "python",
   "nbconvert_exporter": "python",
   "pygments_lexer": "ipython3",
   "version": "3.9.13"
  }
 },
 "nbformat": 4,
 "nbformat_minor": 5
}
