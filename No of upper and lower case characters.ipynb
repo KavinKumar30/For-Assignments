{
 "cells": [
  {
   "cell_type": "markdown",
   "id": "67792b02",
   "metadata": {},
   "source": [
    "Write a Python function that accepts a string and calculate the number of upper case letters and lower case letters.\n",
    "\n",
    "Sample String : 'The quick Brow Fox'\n",
    "\n",
    "Expected Output :\n",
    "\n",
    "No. of Upper case characters : 3\n",
    "\n",
    "No. of Lower case Characters : 12"
   ]
  },
  {
   "cell_type": "code",
   "execution_count": 2,
   "id": "196a64d0",
   "metadata": {},
   "outputs": [
    {
     "name": "stdout",
     "output_type": "stream",
     "text": [
      "Enter string: The quick Brow Fox\n",
      "No.of lower case characters is:\n",
      "12\n",
      "No.of upper case characters is:\n",
      "3\n"
     ]
    }
   ],
   "source": [
    "string =input('Enter string: ')\n",
    "count1= 0\n",
    "count2= 0\n",
    "for i in string:\n",
    "    if(i.islower()):\n",
    "        count1 = count1+1\n",
    "    elif(i.isupper()):\n",
    "        count2 = count2+1\n",
    "\n",
    "print(\"No.of lower case characters is:\")\n",
    "print(count1)\n",
    "print(\"No.of upper case characters is:\")\n",
    "print(count2)\n"
   ]
  }
 ],
 "metadata": {
  "kernelspec": {
   "display_name": "Python 3 (ipykernel)",
   "language": "python",
   "name": "python3"
  },
  "language_info": {
   "codemirror_mode": {
    "name": "ipython",
    "version": 3
   },
   "file_extension": ".py",
   "mimetype": "text/x-python",
   "name": "python",
   "nbconvert_exporter": "python",
   "pygments_lexer": "ipython3",
   "version": "3.9.12"
  }
 },
 "nbformat": 4,
 "nbformat_minor": 5
}
