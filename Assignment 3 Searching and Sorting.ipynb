{
 "cells": [
  {
   "cell_type": "markdown",
   "id": "5c59017d",
   "metadata": {},
   "source": [
    "# ASSIGNMENT 3 SEARCHING AMD SORTING:"
   ]
  },
  {
   "cell_type": "markdown",
   "id": "9022f105",
   "metadata": {},
   "source": [
    "1.Implement Binary Search"
   ]
  },
  {
   "cell_type": "code",
   "execution_count": 5,
   "id": "3706d505",
   "metadata": {},
   "outputs": [
    {
     "data": {
      "text/plain": [
       "-1"
      ]
     },
     "execution_count": 5,
     "metadata": {},
     "output_type": "execute_result"
    }
   ],
   "source": [
    "def binary_search(arr, x):\n",
    "    \n",
    "    low = 0\n",
    "    high = len(arr) - 1\n",
    "    \n",
    "    while low <= high:\n",
    "        mid = (low + high) // 2\n",
    "        \n",
    "        if arr[mid] == x:\n",
    "            return mid\n",
    "        \n",
    "        elif arr[mid] < x:\n",
    "            low = mid + 1\n",
    "            \n",
    "        else:\n",
    "            high = mid - 1\n",
    "            \n",
    "    return -1\n",
    "\n",
    "arr = [1, 3, 5, 7, 9]\n",
    "binary_search(arr, 5)\n",
    "2\n",
    "binary_search(arr, 6)\n",
    "-1\n"
   ]
  },
  {
   "cell_type": "markdown",
   "id": "eff66f30",
   "metadata": {},
   "source": [
    "2.Implement Merge Sort"
   ]
  },
  {
   "cell_type": "code",
   "execution_count": 6,
   "id": "64815998",
   "metadata": {},
   "outputs": [
    {
     "name": "stdout",
     "output_type": "stream",
     "text": [
      "[1, 2, 3, 4, 5, 6, 7, 8]\n"
     ]
    },
    {
     "data": {
      "text/plain": [
       "[1, 2, 3, 4, 5, 6, 7, 8]"
      ]
     },
     "execution_count": 6,
     "metadata": {},
     "output_type": "execute_result"
    }
   ],
   "source": [
    "def merge_sort(arr):\n",
    "\n",
    "    if len(arr) <= 1:\n",
    "        return arr\n",
    "    \n",
    "    mid = len(arr) // 2\n",
    "    left = arr[:mid]\n",
    "    right = arr[mid:]\n",
    "    \n",
    "    left_sorted = merge_sort(left)\n",
    "    right_sorted = merge_sort(right)\n",
    "    \n",
    "    return merge(left_sorted, right_sorted)\n",
    "\n",
    "def merge(left, right):\n",
    "    result = []\n",
    "    i = j = 0\n",
    "    \n",
    "    while i < len(left) and j < len(right):\n",
    "        if left[i] < right[j]:\n",
    "            result.append(left[i])\n",
    "            i += 1\n",
    "        else:\n",
    "            result.append(right[j])\n",
    "            j += 1\n",
    "    \n",
    "    result += left[i:]\n",
    "    result += right[j:]\n",
    "    \n",
    "    return result\n",
    "arr = [5, 2, 8, 4, 7, 1, 3, 6]\n",
    "sorted_arr = merge_sort(arr)\n",
    "print(sorted_arr)\n",
    "[1, 2, 3, 4, 5, 6, 7, 8]\n",
    "\n"
   ]
  },
  {
   "cell_type": "markdown",
   "id": "d02a60c3",
   "metadata": {},
   "source": [
    "3.Implement Quick Sort"
   ]
  },
  {
   "cell_type": "code",
   "execution_count": 7,
   "id": "2fb037ad",
   "metadata": {},
   "outputs": [
    {
     "name": "stdout",
     "output_type": "stream",
     "text": [
      "[1, 2, 3, 4, 5, 6, 7, 8]\n"
     ]
    },
    {
     "data": {
      "text/plain": [
       "[1, 2, 3, 4, 5, 6, 7, 8]"
      ]
     },
     "execution_count": 7,
     "metadata": {},
     "output_type": "execute_result"
    }
   ],
   "source": [
    "def quick_sort(arr):\n",
    "    \n",
    "    if len(arr) <= 1:\n",
    "        return arr\n",
    "    \n",
    "    pivot = arr[0]\n",
    "    left = []\n",
    "    right = []\n",
    "    \n",
    "    for i in range(1, len(arr)):\n",
    "        if arr[i] < pivot:\n",
    "            left.append(arr[i])\n",
    "        else:\n",
    "            right.append(arr[i])\n",
    "    \n",
    "    return quick_sort(left) + [pivot] + quick_sort(right)\n",
    "\n",
    "arr = [5, 2, 8, 4, 7, 1, 3, 6]\n",
    "sorted_arr = quick_sort(arr)\n",
    "print(sorted_arr)\n",
    "[1, 2, 3, 4, 5, 6, 7, 8]\n",
    "\n"
   ]
  },
  {
   "cell_type": "markdown",
   "id": "bd8ea55c",
   "metadata": {},
   "source": [
    "4.Implement Insertion Sort"
   ]
  },
  {
   "cell_type": "code",
   "execution_count": 8,
   "id": "ce7b26d9",
   "metadata": {},
   "outputs": [
    {
     "name": "stdout",
     "output_type": "stream",
     "text": [
      "[1, 2, 3, 4, 5, 6, 7, 8]\n"
     ]
    },
    {
     "data": {
      "text/plain": [
       "[1, 2, 3, 4, 5, 6, 7, 8]"
      ]
     },
     "execution_count": 8,
     "metadata": {},
     "output_type": "execute_result"
    }
   ],
   "source": [
    "def insertion_sort(arr):\n",
    "  \n",
    "    for i in range(1, len(arr)):\n",
    "        key = arr[i]\n",
    "        j = i - 1\n",
    "        \n",
    "        while j >= 0 and key < arr[j]:\n",
    "            arr[j + 1] = arr[j]\n",
    "            j -= 1\n",
    "        \n",
    "        arr[j + 1] = key\n",
    "    \n",
    "    return arr\n",
    "\n",
    "arr = [5, 2, 8, 4, 7, 1, 3, 6]\n",
    "sorted_arr = insertion_sort(arr)\n",
    "print(sorted_arr)\n",
    "[1, 2, 3, 4, 5, 6, 7, 8]\n"
   ]
  },
  {
   "cell_type": "markdown",
   "id": "ddd2e880",
   "metadata": {},
   "source": [
    "5.Write a program to sort list of strings (similar to that of dictionary)"
   ]
  },
  {
   "cell_type": "code",
   "execution_count": 11,
   "id": "7b9df732",
   "metadata": {},
   "outputs": [
    {
     "name": "stdout",
     "output_type": "stream",
     "text": [
      "['apple', 'banana', 'grape', 'orange', 'pear']\n",
      "['pear', 'orange', 'grape', 'banana', 'apple']\n"
     ]
    }
   ],
   "source": [
    "words = ['apple', 'banana', 'orange', 'grape', 'pear']\n",
    "sorted_words = sorted(words)\n",
    "print(sorted_words) \n",
    "\n",
    "words = ['apple', 'banana', 'orange', 'grape', 'pear']\n",
    "sorted_words = sorted(words, reverse=True)\n",
    "print(sorted_words) \n"
   ]
  }
 ],
 "metadata": {
  "kernelspec": {
   "display_name": "Python 3 (ipykernel)",
   "language": "python",
   "name": "python3"
  },
  "language_info": {
   "codemirror_mode": {
    "name": "ipython",
    "version": 3
   },
   "file_extension": ".py",
   "mimetype": "text/x-python",
   "name": "python",
   "nbconvert_exporter": "python",
   "pygments_lexer": "ipython3",
   "version": "3.9.13"
  }
 },
 "nbformat": 4,
 "nbformat_minor": 5
}
