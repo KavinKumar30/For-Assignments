{
 "cells": [
  {
   "cell_type": "markdown",
   "id": "d6da8d1d",
   "metadata": {},
   "source": [
    "# ASSIGNMENT 2 LINEAR DATA STRUCTURES:\n"
   ]
  },
  {
   "cell_type": "markdown",
   "id": "1eb6812b",
   "metadata": {},
   "source": [
    "**Solve these questions in a Jupyter notebook**"
   ]
  },
  {
   "cell_type": "markdown",
   "id": "3b90a8ec",
   "metadata": {},
   "source": [
    "1.Delete the elements in an linked list whose sum is equal to zero"
   ]
  },
  {
   "cell_type": "code",
   "execution_count": null,
   "id": "db965c8b",
   "metadata": {},
   "outputs": [
    {
     "name": "stdout",
     "output_type": "stream",
     "text": [
      "3\n",
      "4\n",
      "5\n"
     ]
    }
   ],
   "source": [
    "class Node:\n",
    "    def __init__(self, value=None, next=None):\n",
    "        self.value = value\n",
    "        self.next = next\n",
    "\n",
    "class DummyNode:\n",
    "    def __init__(self):\n",
    "        self.next = None\n",
    "\n",
    "def delete_zero_sum_nodes(head):\n",
    "    sum_hash = {0: DummyNode()} \n",
    "    current_node = head\n",
    "    current_sum = 0\n",
    "    \n",
    "    while current_node:\n",
    "        current_sum += current_node.value\n",
    "        \n",
    "        if current_sum in sum_hash:\n",
    "            start_node = sum_hash[current_sum].next\n",
    "            sum_to_delete = current_sum\n",
    "            while start_node != current_node:\n",
    "                if start_node is not None:\n",
    "                    sum_to_delete += start_node.value\n",
    "                    del sum_hash[sum_to_delete]\n",
    "                    start_node = start_node.next\n",
    "                else:\n",
    "                    break\n",
    "head = Node(3)\n",
    "second_node = Node(4)\n",
    "head.next = second_node\n",
    "third_node = Node(5)\n",
    "second_node.next = third_node\n",
    "print(head.value) \n",
    "print(head.next.value) \n",
    "print(head.next.next.value)\n",
    "\n",
    "head = Node(3, Node(4, Node(-7, Node(5, Node(-6, Node(6, Node(-3, Node(1))))))))\n",
    "new_head = delete_zero_sum_nodes(head)\n",
    "current_node = new_head\n",
    "while current_node:\n",
    "    print(current_node.value, end=' ')\n",
    "    current_node = current_node.next\n"
   ]
  },
  {
   "cell_type": "code",
   "execution_count": null,
   "id": "22e40eb8",
   "metadata": {},
   "outputs": [],
   "source": []
  },
  {
   "cell_type": "markdown",
   "id": "de66a245",
   "metadata": {},
   "source": [
    "2.Reverse a linked list in groups of given size"
   ]
  },
  {
   "cell_type": "code",
   "execution_count": 4,
   "id": "de4d1885",
   "metadata": {},
   "outputs": [
    {
     "name": "stdout",
     "output_type": "stream",
     "text": [
      "Original linked list:\n",
      "1 2 3 4 5 6 7 8 \n",
      "Linked list after reversal:\n",
      "2 1 4 3 6 5 8 7 \n"
     ]
    }
   ],
   "source": [
    "class Node:\n",
    "    def __init__(self, data):\n",
    "        self.data = data\n",
    "        self.next = None\n",
    " \n",
    "def reverse_linked_list_in_groups(head, k):\n",
    "    current = head\n",
    "    next = None\n",
    "    prev = None\n",
    "    count = 0\n",
    "\n",
    "    while(current is not None and count < k):\n",
    "        next = current.next\n",
    "        current.next = prev\n",
    "        prev = current\n",
    "        current = next\n",
    "        count += 1\n",
    "    if next is not None:\n",
    "        head.next = reverse_linked_list_in_groups(next, k)\n",
    "    return prev\n",
    "\n",
    "def print_linked_list(head):\n",
    "    current = head\n",
    "    while(current):\n",
    "        print(current.data, end=\" \")\n",
    "        current = current.next\n",
    "    print()\n",
    "    \n",
    "head = Node(1)\n",
    "head.next = Node(2)\n",
    "head.next.next = Node(3)\n",
    "head.next.next.next = Node(4)\n",
    "head.next.next.next.next = Node(5)\n",
    "head.next.next.next.next.next = Node(6)\n",
    "head.next.next.next.next.next.next = Node(7)\n",
    "head.next.next.next.next.next.next.next = Node(8)\n",
    "\n",
    "print(\"Original linked list:\")\n",
    "print_linked_list(head)\n",
    "\n",
    "k = 2\n",
    "new_head = reverse_linked_list_in_groups(head, k)\n",
    "\n",
    "print(\"Linked list after reversal:\")\n",
    "print_linked_list(new_head)\n"
   ]
  },
  {
   "cell_type": "code",
   "execution_count": null,
   "id": "5bed9e56",
   "metadata": {},
   "outputs": [],
   "source": []
  },
  {
   "cell_type": "markdown",
   "id": "753abd60",
   "metadata": {},
   "source": [
    "3.Merge a linked list into another linked list at alternate positions"
   ]
  },
  {
   "cell_type": "code",
   "execution_count": 34,
   "id": "03bc80e4",
   "metadata": {},
   "outputs": [
    {
     "name": "stdout",
     "output_type": "stream",
     "text": [
      "Original linked list 1:\n",
      "1 3 5 7 \n",
      "Original linked list 2:\n",
      "2 4 6 8 \n",
      "Linked list after merging at alternate positions:\n",
      "1 2 3 4 5 6 7 8 \n"
     ]
    }
   ],
   "source": [
    "class Node:\n",
    "    def __init__(self, data):\n",
    "        self.data = data\n",
    "        self.next = None\n",
    " \n",
    "def merge_linked_lists(head1, head2):\n",
    "    current1 = head1\n",
    "    current2 = head2\n",
    " \n",
    "    while current1 is not None and current2 is not None:\n",
    "        next1 = current1.next\n",
    "        next2 = current2.next\n",
    " \n",
    "        current2.next = next1\n",
    "        current1.next = current2\n",
    " \n",
    "        current1 = next1\n",
    "        current2 = next2\n",
    " \n",
    "    return head1\n",
    "\n",
    "def print_linked_list(head):\n",
    "    current = head\n",
    "    while(current):\n",
    "        print(current.data, end=\" \")\n",
    "        current = current.next\n",
    "    print()\n",
    "\n",
    "head1 = Node(1)\n",
    "head1.next = Node(3)\n",
    "head1.next.next = Node(5)\n",
    "head1.next.next.next = Node(7)\n",
    "\n",
    "head2 = Node(2)\n",
    "head2.next = Node(4)\n",
    "head2.next.next = Node(6)\n",
    "head2.next.next.next = Node(8)\n",
    "\n",
    "print(\"Original linked list 1:\")\n",
    "print_linked_list(head1)\n",
    "print(\"Original linked list 2:\")\n",
    "print_linked_list(head2)\n",
    "\n",
    "new_head = merge_linked_lists(head1, head2)\n",
    "\n",
    "print(\"Linked list after merging at alternate positions:\")\n",
    "print_linked_list(new_head)\n"
   ]
  },
  {
   "cell_type": "code",
   "execution_count": null,
   "id": "b0c7b277",
   "metadata": {},
   "outputs": [],
   "source": []
  },
  {
   "cell_type": "markdown",
   "id": "be59bba8",
   "metadata": {},
   "source": [
    "4.In an array, Count Pairs with given sum"
   ]
  },
  {
   "cell_type": "code",
   "execution_count": 9,
   "id": "583b4aaa",
   "metadata": {},
   "outputs": [
    {
     "name": "stdout",
     "output_type": "stream",
     "text": [
      "Number of pairs with sum 6 in the array [1, 5, 7, -1, 5] is 3\n"
     ]
    }
   ],
   "source": [
    "def count_pairs_with_given_sum(arr, target_sum):\n",
    "    freq = {}\n",
    "    count = 0\n",
    "    for x in arr:\n",
    "        if target_sum - x in freq:\n",
    "            count += freq[target_sum - x]\n",
    "        freq[x] = freq.get(x, 0) + 1\n",
    "    return count\n",
    "\n",
    "arr = [1, 5, 7, -1, 5]\n",
    "target_sum = 6\n",
    "count = count_pairs_with_given_sum(arr, target_sum)\n",
    "print(\"Number of pairs with sum\", target_sum, \"in the array\", arr, \"is\", count)\n"
   ]
  },
  {
   "cell_type": "code",
   "execution_count": null,
   "id": "b8e81940",
   "metadata": {},
   "outputs": [],
   "source": []
  },
  {
   "cell_type": "markdown",
   "id": "19f75698",
   "metadata": {},
   "source": [
    "5.Find duplicates in an array"
   ]
  },
  {
   "cell_type": "code",
   "execution_count": 11,
   "id": "a7b5e529",
   "metadata": {},
   "outputs": [
    {
     "name": "stdout",
     "output_type": "stream",
     "text": [
      "Duplicates in the array [1, 2, 3, 2, 1, 5, 6, 5, 5] are: [2, 1, 5]\n"
     ]
    }
   ],
   "source": [
    "def find_duplicates(arr):\n",
    "\n",
    "    freq = {}\n",
    "    duplicates = []\n",
    "    for x in arr:\n",
    "        if x in freq and freq[x] == 1:\n",
    "            duplicates.append(x)\n",
    "        freq[x] = freq.get(x, 0) + 1\n",
    "\n",
    "    return duplicates\n",
    "\n",
    "arr = [1, 2, 3, 2, 1, 5, 6, 5, 5]\n",
    "duplicates = find_duplicates(arr)\n",
    "print(\"Duplicates in the array\", arr, \"are:\", duplicates)\n"
   ]
  },
  {
   "cell_type": "code",
   "execution_count": null,
   "id": "807841e6",
   "metadata": {},
   "outputs": [],
   "source": []
  },
  {
   "cell_type": "markdown",
   "id": "ed815414",
   "metadata": {},
   "source": [
    "6.Find the Kth largest and Kth smallest number in an array"
   ]
  },
  {
   "cell_type": "code",
   "execution_count": 17,
   "id": "e6203a0b",
   "metadata": {},
   "outputs": [
    {
     "name": "stdout",
     "output_type": "stream",
     "text": [
      "Array: [7, 6, 5, 4, 3, 2, 1]\n",
      "Kth smallest number: 3\n",
      "Kth largest number: 5\n"
     ]
    }
   ],
   "source": [
    "def find_kth_smallest(arr, k):\n",
    "\n",
    "    arr.sort()\n",
    "    return arr[k-1]\n",
    "\n",
    "def find_kth_largest(arr, k):\n",
    "    arr.sort(reverse=True)\n",
    "    \n",
    "    return arr[k-1]\n",
    "\n",
    "arr = [1, 2, 3, 4, 5, 6, 7]\n",
    "k = 3\n",
    "kth_smallest = find_kth_smallest(arr, k)\n",
    "kth_largest = find_kth_largest(arr, k)\n",
    "print(\"Array:\", arr)\n",
    "print(\"Kth smallest number:\", kth_smallest)\n",
    "print(\"Kth largest number:\", kth_largest)\n"
   ]
  },
  {
   "cell_type": "code",
   "execution_count": null,
   "id": "1c22828f",
   "metadata": {},
   "outputs": [],
   "source": []
  },
  {
   "cell_type": "markdown",
   "id": "7b1fda1b",
   "metadata": {},
   "source": [
    "7.Move all the negative elements to one side of the array"
   ]
  },
  {
   "cell_type": "code",
   "execution_count": 19,
   "id": "a24a8525",
   "metadata": {},
   "outputs": [
    {
     "name": "stdout",
     "output_type": "stream",
     "text": [
      "Original array: [-1, 2, -3, 4, -5, 6, -7, 8, 9]\n",
      "Modified array: [-1, -7, -3, -5, 4, 6, 2, 8, 9]\n"
     ]
    }
   ],
   "source": [
    "def move_negatives(arr):\n",
    "    i = 0\n",
    "    j = len(arr) - 1\n",
    "    while i < j:\n",
    "        while arr[i] < 0:\n",
    "            i += 1\n",
    "        while arr[j] >= 0:\n",
    "            j -= 1\n",
    "        if i < j:\n",
    "            arr[i], arr[j] = arr[j], arr[i]\n",
    "    return arr\n",
    "arr = [-1, 2, -3, 4, -5, 6, -7, 8, 9]\n",
    "print(\"Original array:\", arr)\n",
    "arr = move_negatives(arr)\n",
    "print(\"Modified array:\", arr)\n"
   ]
  },
  {
   "cell_type": "code",
   "execution_count": null,
   "id": "57193277",
   "metadata": {},
   "outputs": [],
   "source": []
  },
  {
   "cell_type": "markdown",
   "id": "64ccd6e9",
   "metadata": {},
   "source": [
    "8.Reverse a string using a stack data structure"
   ]
  },
  {
   "cell_type": "code",
   "execution_count": 23,
   "id": "b03985b1",
   "metadata": {},
   "outputs": [
    {
     "name": "stdout",
     "output_type": "stream",
     "text": [
      "Original string: KAVIN\n",
      "Reversed string: NIVAK\n"
     ]
    }
   ],
   "source": [
    "def reverse_string(string):\n",
    "    stack = []\n",
    "    for char in string:\n",
    "        stack.append(char)\n",
    "    \n",
    "    reversed_string = ''\n",
    "    while len(stack) > 0:\n",
    "        reversed_string += stack.pop()\n",
    "    \n",
    "    return reversed_string\n",
    "\n",
    "string = 'KAVIN'\n",
    "print(\"Original string:\", string)\n",
    "reversed_string = reverse_string(string)\n",
    "print(\"Reversed string:\", reversed_string)\n"
   ]
  },
  {
   "cell_type": "code",
   "execution_count": null,
   "id": "8c253b61",
   "metadata": {},
   "outputs": [],
   "source": []
  },
  {
   "cell_type": "markdown",
   "id": "691aed83",
   "metadata": {},
   "source": [
    "9.Evaluate a postfix expression using stack"
   ]
  },
  {
   "cell_type": "code",
   "execution_count": 27,
   "id": "61c38896",
   "metadata": {},
   "outputs": [
    {
     "name": "stdout",
     "output_type": "stream",
     "text": [
      "Postfix expression: 23*54*+9-\n",
      "Result: 17\n"
     ]
    }
   ],
   "source": [
    "def evaluate_postfix(expression):\n",
    "    # Create an empty stack\n",
    "    stack = []\n",
    "    \n",
    "    for char in expression:\n",
    "        \n",
    "        if char.isdigit():\n",
    "            stack.append(int(char))\n",
    "        else:\n",
    "            operand2 = stack.pop()\n",
    "            operand1 = stack.pop()\n",
    "            if char == '+':\n",
    "                result = operand1 + operand2\n",
    "            elif char == '-':\n",
    "                result = operand1 - operand2\n",
    "            elif char == '*':\n",
    "                result = operand1 * operand2\n",
    "            elif char == '/':\n",
    "                result = operand1 / operand2\n",
    "            else:\n",
    "                raise ValueError(\"Invalid operator: \" + char)\n",
    "            stack.append(result)\n",
    "\n",
    "    return stack.pop()\n",
    "expression = \"23*54*+9-\"\n",
    "print(\"Postfix expression:\", expression)\n",
    "result = evaluate_postfix(expression)\n",
    "print(\"Result:\", result)\n"
   ]
  },
  {
   "cell_type": "code",
   "execution_count": null,
   "id": "17a65741",
   "metadata": {},
   "outputs": [],
   "source": []
  },
  {
   "cell_type": "markdown",
   "id": "614bf7ac",
   "metadata": {},
   "source": [
    "10.Implement a queue using the stack data structure"
   ]
  },
  {
   "cell_type": "code",
   "execution_count": 29,
   "id": "fc270cf5",
   "metadata": {},
   "outputs": [
    {
     "name": "stdout",
     "output_type": "stream",
     "text": [
      "1\n",
      "2\n",
      "3\n",
      "4\n"
     ]
    }
   ],
   "source": [
    "class Queue:\n",
    "    def __init__(self):\n",
    "        self.in_stack = []\n",
    "        self.out_stack = []\n",
    "        \n",
    "    def enqueue(self, item):\n",
    "        self.in_stack.append(item)\n",
    "        \n",
    "    def dequeue(self):\n",
    "        if len(self.out_stack) == 0:\n",
    "            while len(self.in_stack) > 0:\n",
    "                self.out_stack.append(self.in_stack.pop())\n",
    "        \n",
    "        if len(self.out_stack) == 0:\n",
    "            raise IndexError(\"Queue is empty\")        \n",
    "        return self.out_stack.pop()\n",
    "\n",
    "queue = Queue()\n",
    "queue.enqueue(1)\n",
    "queue.enqueue(2)\n",
    "queue.enqueue(3)\n",
    "print(queue.dequeue()) \n",
    "print(queue.dequeue())  \n",
    "queue.enqueue(4)\n",
    "print(queue.dequeue())  \n",
    "print(queue.dequeue())  \n"
   ]
  }
 ],
 "metadata": {
  "kernelspec": {
   "display_name": "Python 3 (ipykernel)",
   "language": "python",
   "name": "python3"
  },
  "language_info": {
   "codemirror_mode": {
    "name": "ipython",
    "version": 3
   },
   "file_extension": ".py",
   "mimetype": "text/x-python",
   "name": "python",
   "nbconvert_exporter": "python",
   "pygments_lexer": "ipython3",
   "version": "3.9.13"
  }
 },
 "nbformat": 4,
 "nbformat_minor": 5
}
