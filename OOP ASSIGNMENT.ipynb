{
 "cells": [
  {
   "cell_type": "markdown",
   "id": "cc22a7bc",
   "metadata": {},
   "source": [
    "# OOP Assignments:"
   ]
  },
  {
   "cell_type": "markdown",
   "id": "49ddf64d",
   "metadata": {},
   "source": [
    "**Challenge 1 : Square Numbers and Return their sum**\n",
    "\n",
    "**Sample Proerties = 1, 3, 5**\n",
    "**Sample method outpue = 35**\n"
   ]
  },
  {
   "cell_type": "code",
   "execution_count": 3,
   "id": "eb709c78",
   "metadata": {},
   "outputs": [
    {
     "name": "stdout",
     "output_type": "stream",
     "text": [
      "Enter x: 1\n",
      "Enter y: 3\n",
      "Enter z: 5\n",
      "35\n"
     ]
    }
   ],
   "source": [
    "class Point():\n",
    "    \n",
    "    def __init__(self,x,y,z):\n",
    "        self.x = x\n",
    "        self.y = y\n",
    "        self.z = z\n",
    "    \n",
    "    def sqSum(self):\n",
    "        return self.x*x + self.y*y + self.z*z\n",
    "\n",
    "x = int(input(\"Enter x: \"))\n",
    "y = int(input(\"Enter y: \"))\n",
    "z = int(input(\"Enter z: \"))\n",
    "\n",
    "obj = Point(x,y,z)\n",
    "print(obj.sqSum())"
   ]
  },
  {
   "cell_type": "markdown",
   "id": "4fe153e9",
   "metadata": {},
   "source": [
    "**Challenge 2: Implement a Calculator CLass**\n",
    "\n",
    "**Sample Properties = num1 , num2**\n",
    "\n",
    "**Input - Pass numbers(integers or floats)in the intializer**\n",
    "\n",
    "**Output - Addition , Subraction , Division and Multiplication**\n",
    "\n",
    "**Sample output = 104 , 84 , 940 , 9.4**"
   ]
  },
  {
   "cell_type": "code",
   "execution_count": 2,
   "id": "19a202e9",
   "metadata": {},
   "outputs": [
    {
     "name": "stdout",
     "output_type": "stream",
     "text": [
      "Enter first number: 94\n",
      "Enter second number: 10\n",
      "104\n",
      "84\n",
      "940\n",
      "9.4\n"
     ]
    }
   ],
   "source": [
    "class calculator():\n",
    "    def __init__(self , num1 ,num2):\n",
    "        self.num1=num1\n",
    "        self.num2=num2\n",
    "    def add(self):\n",
    "        return self.num1 + self.num2\n",
    "    def subraction(self):\n",
    "        return self.num1 - self.num2\n",
    "    def multiply(self):\n",
    "        return self.num1 * self.num2\n",
    "    def divide(self):\n",
    "        return self.num1 / self.num2\n",
    "\n",
    "num1 = int(input(\"Enter first number: \"))\n",
    "num2 = int(input(\"Enter second number: \"))\n",
    "obj = calculator(num1,num2)\n",
    "print(obj.add())\n",
    "print(obj.subraction())\n",
    "print(obj.multiply())\n",
    "print(obj.divide())\n",
    "    "
   ]
  },
  {
   "cell_type": "markdown",
   "id": "a69a153b",
   "metadata": {},
   "source": [
    "**Challenge 3: Implement the Complete Student Class**\n",
    "\n",
    "**Properties as Private: name , rollnumber**\n",
    "\n",
    "**Input = Checking all the properties and methods**\n",
    "\n",
    "**Output = Expecting perfectly defined fields and getter/setter**"
   ]
  },
  {
   "cell_type": "code",
   "execution_count": 146,
   "id": "9631e01a",
   "metadata": {},
   "outputs": [
    {
     "name": "stdout",
     "output_type": "stream",
     "text": [
      "Name : Kavin Kumar\n",
      "RollNumber : 10\n"
     ]
    }
   ],
   "source": [
    "class Student:\n",
    "    \n",
    "    def setName(self,name):\n",
    "        self._name = name\n",
    "    def getName(self):\n",
    "        return self._name\n",
    "    \n",
    "    def setRollNumber(self, rollnumber):\n",
    "        self._rollnumber = rollnumber\n",
    "    def getRollNumber(self):\n",
    "        return self._rollnumber\n",
    "    \n",
    "obj = Student()\n",
    "obj.setName(\"Name : Kavin Kumar\")\n",
    "obj.setRollNumber(\"RollNumber : 10\")\n",
    "print(obj.getName())\n",
    "print(obj.getRollNumber())\n",
    "    \n",
    "    \n",
    "\n"
   ]
  },
  {
   "cell_type": "markdown",
   "id": "f4287f45",
   "metadata": {},
   "source": [
    "**Challenge 4: Implement a Banking Account**\n",
    "\n",
    "**Implement the basic structure of a parent class,Account,and a child class SavingsAccount**\n",
    "\n",
    "**Account Properties = title , balance**\n",
    "\n",
    "**SavingsAccount Properties = interestRate**\n",
    "\n",
    "**Output Account = (Ashish , 5000 , 5)**\n"
   ]
  },
  {
   "cell_type": "code",
   "execution_count": 12,
   "id": "56f29d5c",
   "metadata": {},
   "outputs": [
    {
     "name": "stdout",
     "output_type": "stream",
     "text": [
      "Ashish\n",
      "5000\n",
      "5\n"
     ]
    }
   ],
   "source": [
    "class Account:\n",
    "    \n",
    "    def __init__(self,title,balance):\n",
    "        self.title=title\n",
    "        self.balance=balance\n",
    "        \n",
    "class SavingsAccount(Account):\n",
    "    \n",
    "    def __init__(self,title,balance,interestRate):\n",
    "        super().__init__(title,balance)\n",
    "        self.interestRate = interestRate\n",
    "\n",
    "obj= SavingsAccount(\"Ashish\", 5000, 5)\n",
    "print(obj.title)\n",
    "print(obj.balance)\n",
    "print(obj.interestRate)\n",
    "    "
   ]
  },
  {
   "cell_type": "markdown",
   "id": "218713d3",
   "metadata": {},
   "source": [
    "**Challenge 5: Handling a Bank Account**\n",
    "\n",
    "**In this challengs we will extend the previous challenge and implementing methods in the parent class and its corresponding**\n",
    "\n",
    "**Task 1: use getBalance and return the balance**\n",
    "\n",
    "**Task 2: Implement deposit method and add amount to the balance**\n",
    "**Sample Input = balance = 2000 , deposit(500) , getbalance()**\n",
    "**Sample Output = 2500**\n",
    "\n",
    "**Task 3: Implement withdrawal method and subtract amount from the balance**\n",
    "**Sample Input = balance = 2500 , withdrawal(500) , getbalance()**\n",
    "**Sample Output = 2000**\n",
    "\n",
    "**Task 4: Implement intresetAmount method that returns the interest amount**\n",
    "**Sample Input = balance = 2000 , interestRate = 5 , interestAmount()**\n",
    "**Sample Output = 100**\n",
    "\n",
    "\n"
   ]
  },
  {
   "cell_type": "code",
   "execution_count": 141,
   "id": "9ab58d50",
   "metadata": {},
   "outputs": [
    {
     "name": "stdout",
     "output_type": "stream",
     "text": [
      "Balance in the Account:  2000\n",
      "Balance After Depositing the amount 500:  2500\n",
      "Balance after Withdrawal the amount 500:  2000\n",
      "Interest amount for Current Balance:  100.0\n"
     ]
    }
   ],
   "source": [
    "class Account:\n",
    "    \n",
    "    def __init__(self,title=None, balance=0):\n",
    "        self.title = title\n",
    "        self.balance = balance    \n",
    "        \n",
    "    def withdrawal(self,amount):\n",
    "        self.balance -= amount\n",
    "        return\n",
    "   \n",
    "    def deposit(self,amount):\n",
    "        self.balance += amount\n",
    "        return\n",
    "    \n",
    "    def getBalance(self):\n",
    "        return self.balance\n",
    "    \n",
    "class SavingsAccount(Account):\n",
    "    \n",
    "    def __init__(self,title=None, balance=0, interestRate=0):\n",
    "        super().__init__(title,balance)\n",
    "        self.interestRate = interestRate\n",
    "        \n",
    "    def interestAmount(self):\n",
    "        return self.balance * self.interestRate / 100\n",
    "    \n",
    "obj=SavingsAccount(title=\"Ashish\", balance=2000, interestRate=5)\n",
    "print(\"Balance in the Account: \", obj.getBalance())\n",
    "obj.deposit(500)\n",
    "print(\"Balance After Depositing the amount 500: \", obj.getBalance())\n",
    "obj.withdrawal(500)\n",
    "print(\"Balance after Withdrawal the amount 500: \", obj.getBalance())\n",
    "obj.interestAmount()\n",
    "print(\"Interest amount for Current Balance: \",     obj.interestAmount())\n",
    "\n",
    "    \n",
    "    "
   ]
  }
 ],
 "metadata": {
  "kernelspec": {
   "display_name": "Python 3 (ipykernel)",
   "language": "python",
   "name": "python3"
  },
  "language_info": {
   "codemirror_mode": {
    "name": "ipython",
    "version": 3
   },
   "file_extension": ".py",
   "mimetype": "text/x-python",
   "name": "python",
   "nbconvert_exporter": "python",
   "pygments_lexer": "ipython3",
   "version": "3.9.13"
  }
 },
 "nbformat": 4,
 "nbformat_minor": 5
}
