{
 "cells": [
  {
   "cell_type": "markdown",
   "id": "921556d4",
   "metadata": {},
   "source": [
    "# Create an Assignment for File Handling of JSON files in Python"
   ]
  },
  {
   "cell_type": "markdown",
   "id": "a58a36b8",
   "metadata": {},
   "source": [
    "# ASSIGNMENT 1:"
   ]
  },
  {
   "cell_type": "markdown",
   "id": "ef98d040",
   "metadata": {},
   "source": [
    "**1. Create a JSON file employee.json containing employee information of minimum 5 employees**\n",
    "\n",
    "**Employees should consits of Name,DOB,Height,City,State. Program to read this information into a list of objects**"
   ]
  },
  {
   "cell_type": "code",
   "execution_count": 3,
   "id": "59ea9faa",
   "metadata": {},
   "outputs": [
    {
     "name": "stdout",
     "output_type": "stream",
     "text": [
      "Enter your Name: Kavin Kumar\n",
      "Enter your DOB: 30-07-1999\n",
      "Enter your Height: 5.2\n",
      "Enter your City: Ooty\n",
      "Enter your state: Tamil Nadu\n",
      "Enter your Name: Vishnu Prasanth \n",
      "Enter your DOB: 31-03-2000\n",
      "Enter your Height: 6.1\n",
      "Enter your City: Chennai\n",
      "Enter your state: Tamil Nadu\n",
      "Enter your Name: Vijay \n",
      "Enter your DOB: 10-06-2000\n",
      "Enter your Height: 5.1\n",
      "Enter your City: Bangalore\n",
      "Enter your state: Karnataka\n",
      "Enter your Name: Ragupathi\n",
      "Enter your DOB: 23-11-1997\n",
      "Enter your Height: 5.4\n",
      "Enter your City: Trivandrum\n",
      "Enter your state: Kerala\n",
      "Enter your Name: SirimallaShashi\n",
      "Enter your DOB: 02-05-1996\n",
      "Enter your Height: 5.5\n",
      "Enter your City: Hyderabad\n",
      "Enter your state: Telangana\n",
      "-----------------------------------------------------\n",
      "[{'name': 'Kavin Kumar', 'dob': '30-07-1999', 'height': '5.2', 'city': 'Ooty', 'state': 'Tamil Nadu'}]\n",
      "[{'name': 'Vishnu Prasanth ', 'dob': '31-03-2000', 'height': '6.1', 'city': 'Chennai', 'state': 'Tamil Nadu'}]\n",
      "[{'name': 'Vijay ', 'dob': '10-06-2000', 'height': '5.1', 'city': 'Bangalore', 'state': 'Karnataka'}]\n",
      "[{'name': 'Ragupathi', 'dob': '23-11-1997', 'height': '5.4', 'city': 'Trivandrum', 'state': 'Kerala'}]\n",
      "[{'name': 'SirimallaShashi', 'dob': '02-05-1996', 'height': '5.5', 'city': 'Hyderabad', 'state': 'Telangana'}]\n"
     ]
    }
   ],
   "source": [
    "import json\n",
    "\n",
    "class Employee:\n",
    "    \n",
    "    def __init__(self):\n",
    "        self.emp_dic={}\n",
    "    \n",
    "    def create_JSON(self):\n",
    "        \n",
    "        for i in range(5):\n",
    "            name = input(\"Enter your Name: \")\n",
    "            dob = input('Enter your DOB: ')\n",
    "            height = input('Enter your Height: ')\n",
    "            city = input('Enter your City: ')\n",
    "            state = input('Enter your state: ')\n",
    "            emp={'name' :name,'dob' :dob,'height' :height,'city' :city,'state' :state}\n",
    "            emp_id = len(self.emp_dic)+1\n",
    "            self.emp_dic[emp_id]=emp\n",
    "        with open(\"employee.json\", 'w') as f:\n",
    "            json.dump(self.emp_dic,f)\n",
    "            \n",
    "            \n",
    "    def data_print(self):\n",
    "        with open(\"employee.json\", 'r') as f:\n",
    "            data = json.load(f)\n",
    "        for i in data.values():\n",
    "            l1 = []\n",
    "            l1.append(i)\n",
    "            print(l1)\n",
    "            \n",
    "x =Employee()\n",
    "x.create_JSON()\n",
    "print(\"-----------------------------------------------------\")\n",
    "x.data_print()\n",
    "            \n",
    "            "
   ]
  },
  {
   "cell_type": "markdown",
   "id": "bcf79a47",
   "metadata": {},
   "source": [
    "**2. Create a dictionary of any 7 Indian States and their Capitals. Write this into a JSON file.**"
   ]
  },
  {
   "cell_type": "code",
   "execution_count": 2,
   "id": "9a00e765",
   "metadata": {},
   "outputs": [],
   "source": [
    "import json\n",
    "\n",
    "states = {\"TamilNadu\": \"Chennai\", \"Telangana\": \"Hyderabad\", \"Uttar Pradesh\": \"Lucknow\", \"Maharashtra\": \"MMumbai\",\n",
    "         \"Bihar\": \"Patna\", \"West Bengal\": \"Kolkata\", \"Rajasthan\": \"Jaipur\", \"Assam\": \"Dispur\"}\n",
    "\n",
    "with open('State_Captitals.json','w') as f:\n",
    "    json.dump(states,f)"
   ]
  },
  {
   "cell_type": "code",
   "execution_count": null,
   "id": "e72f9869",
   "metadata": {},
   "outputs": [],
   "source": []
  },
  {
   "cell_type": "markdown",
   "id": "67d8e368",
   "metadata": {},
   "source": [
    "# ASSIGNMENT 2:\n"
   ]
  },
  {
   "cell_type": "markdown",
   "id": "1bbabdcb",
   "metadata": {},
   "source": [
    "**1. Create a class 'Dog'. It should have a constructor which accepts its name, age and coat_colour**\n",
    "\n",
    "**Following Operations:**\n",
    "\n",
    "**a. It should have a fuction 'description()'  which prints the name and age of the dog.**\n",
    "\n",
    "**b. it should have a fuction 'get_info()' which prints the coat_colour of the dog.**\n",
    "\n",
    "**c. Create a child classes 'JackRussellTerier' and 'Bulldiog' which is inherited from the class 'Dog'. It should have atleast two methods of its own.**\n",
    "\n",
    "**d. Create objects and implement the above functionalities.**\n"
   ]
  },
  {
   "cell_type": "code",
   "execution_count": 1,
   "id": "9fd1574a",
   "metadata": {},
   "outputs": [
    {
     "name": "stdout",
     "output_type": "stream",
     "text": [
      "Name of Dog: Tommy Age: 3 years old\n",
      "Coat_Colour of Dog: White\n",
      "----------------------------\n",
      "Name of Dog: Jimmy Age: 6 years old Coat_Colour of Dog: Brown\n",
      "Breed: JackRussellTerrier \n",
      "----------------------------\n",
      "Name of Dog: Seizer Age: 2 months old Coat_Colour of Dog: Black\n",
      "Breed: Bulldog \n"
     ]
    }
   ],
   "source": [
    "class Dog:\n",
    "    \n",
    "    def __init__(self,name,age,coat_colour):\n",
    "        self.name=name\n",
    "        self.age=age\n",
    "        self.coat_colour=coat_colour\n",
    "    \n",
    "    def description(self):\n",
    "        print(self.name,self.age)\n",
    "    \n",
    "    def get_info(self):\n",
    "        print(self.coat_colour)\n",
    "        \n",
    "class JackRussellTerrier(Dog):\n",
    "    def __init__(self,name,age,coat_colour,breed):\n",
    "        super().__init__(name,age,coat_colour)\n",
    "        self.breed = breed\n",
    "        \n",
    "    def description (self):\n",
    "        print(self.name,self.age,self.coat_colour)\n",
    "        \n",
    "    def get_info(self):\n",
    "        print(self.breed)\n",
    "        \n",
    "class Bull_dog(Dog):\n",
    "    def __init__(self,name,age,coat_colour,breed):\n",
    "        super().__init__(name,age,coat_colour)\n",
    "        self.breed = breed\n",
    "        \n",
    "    def description (self):\n",
    "        print(self.name,self.age,self.coat_colour)\n",
    "        \n",
    "    def get_breed(self):\n",
    "        print(self.breed)\n",
    "        \n",
    "obj = Dog(\"Name of Dog: Tommy\",  \"Age: 3 years old\" ,  \"Coat_Colour of Dog: White\")\n",
    "obj.description()\n",
    "obj.get_info()\n",
    "print(\"----------------------------\")\n",
    "\n",
    "obj1 = JackRussellTerrier(\"Name of Dog: Jimmy\", \"Age: 6 years old\", \"Coat_Colour of Dog: Brown\", \"Breed: JackRussellTerrier \")\n",
    "obj1.description()\n",
    "obj1.get_info()\n",
    "print(\"----------------------------\")\n",
    "ob = Bull_dog(\"Name of Dog: Seizer\", \"Age: 2 months old\", \"Coat_Colour of Dog: Black\", \"Breed: Bulldog \")\n",
    "ob.description()\n",
    "ob.get_breed()    "
   ]
  }
 ],
 "metadata": {
  "kernelspec": {
   "display_name": "Python 3 (ipykernel)",
   "language": "python",
   "name": "python3"
  },
  "language_info": {
   "codemirror_mode": {
    "name": "ipython",
    "version": 3
   },
   "file_extension": ".py",
   "mimetype": "text/x-python",
   "name": "python",
   "nbconvert_exporter": "python",
   "pygments_lexer": "ipython3",
   "version": "3.9.13"
  }
 },
 "nbformat": 4,
 "nbformat_minor": 5
}
