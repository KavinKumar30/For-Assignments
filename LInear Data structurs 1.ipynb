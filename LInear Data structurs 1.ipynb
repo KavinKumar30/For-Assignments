{
 "cells": [
  {
   "cell_type": "code",
   "execution_count": 1,
   "id": "78123014",
   "metadata": {},
   "outputs": [
    {
     "name": "stdout",
     "output_type": "stream",
     "text": [
      "Arrays= [1, 2, 3, 4, 5, 6, 7, 8, 9, 10]\n",
      "Pairs whose sum is:  6\n",
      "1 5\n",
      "2 4\n",
      "3 3\n"
     ]
    }
   ],
   "source": [
    "def find(array, len, summ):\n",
    "    print(\"Pairs whose sum is: \", summ)\n",
    "    for i in range(len):\n",
    "        for j in range(i, len):\n",
    "            if (array[i] + array[j]) == summ:\n",
    "                print(array[i], array[j])\n",
    "\n",
    "array = [1, 2, 3, 4, 5, 6, 7, 8, 9, 10]\n",
    "\n",
    "summ = 6\n",
    "\n",
    "print(\"Arrays=\", array)\n",
    "\n",
    "find(array, len(array), summ)\n"
   ]
  },
  {
   "cell_type": "code",
   "execution_count": 2,
   "id": "2d7c8812",
   "metadata": {},
   "outputs": [
    {
     "data": {
      "text/plain": [
       "[4, 3, 3, 1]"
      ]
     },
     "execution_count": 2,
     "metadata": {},
     "output_type": "execute_result"
    }
   ],
   "source": [
    "def reverse_array(arr):\n",
    "    \n",
    "    for i in range(len(arr)//2):\n",
    "        \n",
    "        arr[i],arr[len(arr)-i-1] = arr[len(arr)-i-1],arr[i]\n",
    "        \n",
    "        return arr\n",
    "    \n",
    "reverse_array([1,3,3,4])  "
   ]
  },
  {
   "cell_type": "code",
   "execution_count": 16,
   "id": "456e4137",
   "metadata": {},
   "outputs": [
    {
     "name": "stdout",
     "output_type": "stream",
     "text": [
      "The strings are rotations of each other.\n"
     ]
    }
   ],
   "source": [
    "def are_rotations(str1, str2):\n",
    "    if len(str1) != len(str2):\n",
    "        return False\n",
    "\n",
    "    temp = str1 + str1\n",
    "    if str2 in temp:\n",
    "        return True\n",
    "    else:\n",
    "        return False\n",
    "\n",
    "str1 = \"hello\"\n",
    "str2 = \"llohe\"\n",
    "if are_rotations(str1, str2):\n",
    "    print(\"The strings are rotations of each other.\")\n",
    "else:\n",
    "    print(\"The strings are not rotations of each other.\")\n"
   ]
  },
  {
   "cell_type": "code",
   "execution_count": 22,
   "id": "60b37d31",
   "metadata": {},
   "outputs": [
    {
     "name": "stdout",
     "output_type": "stream",
     "text": [
      "The first non-repeated character is: h\n"
     ]
    }
   ],
   "source": [
    "def first_non_repeated_char(string):\n",
    "    char_freq = {}\n",
    "    for char in string:\n",
    "        if char in char_freq:\n",
    "            char_freq[char] += 1\n",
    "        else:\n",
    "            char_freq[char] = 1\n",
    "\n",
    "\n",
    "    for char in string:\n",
    "        if char_freq[char] == 1:\n",
    "            return char\n",
    "\n",
    "    return None\n",
    "\n",
    "string = \"hello world\"\n",
    "result = first_non_repeated_char(string)\n",
    "if result:\n",
    "    print(\"The first non-repeated character is:\", result)\n",
    "else:\n",
    "    print(\"No non-repeated character found in the string.\")\n"
   ]
  },
  {
   "cell_type": "code",
   "execution_count": 25,
   "id": "1283421b",
   "metadata": {},
   "outputs": [
    {
     "name": "stdout",
     "output_type": "stream",
     "text": [
      "Move disk 1 from A to C\n",
      "Move disk 2 from A to B\n",
      "Move disk 1 from C to B\n",
      "Move disk 3 from A to C\n",
      "Move disk 1 from B to A\n",
      "Move disk 2 from B to C\n",
      "Move disk 1 from A to C\n"
     ]
    }
   ],
   "source": [
    "def tower_of_hanoi(n, source, auxiliary, destination):\n",
    "    \n",
    "    if n == 1:\n",
    "        print(f\"Move disk 1 from {source} to {destination}\")\n",
    "        return\n",
    "\n",
    "    tower_of_hanoi(n - 1, source, destination, auxiliary)\n",
    "    print(f\"Move disk {n} from {source} to {destination}\")\n",
    "    tower_of_hanoi(n - 1, auxiliary, source, destination)\n",
    "\n",
    "tower_of_hanoi(3, 'A', 'B', 'C')\n"
   ]
  },
  {
   "cell_type": "code",
   "execution_count": 32,
   "id": "f32247b6",
   "metadata": {},
   "outputs": [
    {
     "name": "stdout",
     "output_type": "stream",
     "text": [
      "The prefix expression is: *+345\n"
     ]
    }
   ],
   "source": [
    "def postfix_to_prefix(expression):\n",
    "    stack = []\n",
    "\n",
    "    for char in expression:\n",
    "        \n",
    "        if char.isalnum():\n",
    "            stack.append(char)\n",
    "\n",
    "        else:\n",
    "            operand2 = stack.pop()\n",
    "            operand1 = stack.pop()\n",
    "            new_expression = char + operand1 + operand2\n",
    "            stack.append(new_expression)\n",
    "\n",
    "    return stack[-1]\n",
    "\n",
    "postfix_expression = \"34+5*\"\n",
    "prefix_expression = postfix_to_prefix(postfix_expression)\n",
    "print(\"The prefix expression is:\", prefix_expression)\n"
   ]
  },
  {
   "cell_type": "code",
   "execution_count": 34,
   "id": "c2c0459e",
   "metadata": {},
   "outputs": [
    {
     "name": "stdout",
     "output_type": "stream",
     "text": [
      "The infix expression is: ((3+4)*5)\n"
     ]
    }
   ],
   "source": [
    "def prefix_to_infix(expression):\n",
    "    stack = []\n",
    "\n",
    "    for char in expression[::-1]:\n",
    "       \n",
    "        if char.isalnum():\n",
    "            stack.append(char)\n",
    "    \n",
    "        else:\n",
    "            operand1 = stack.pop()\n",
    "            operand2 = stack.pop()\n",
    "            new_expression = f\"({operand1}{char}{operand2})\"\n",
    "            stack.append(new_expression)\n",
    "\n",
    "  \n",
    "    return stack[-1]\n",
    "\n",
    "prefix_expression = \"*+345\"\n",
    "infix_expression = prefix_to_infix(prefix_expression)\n",
    "print(\"The infix expression is:\", infix_expression)\n"
   ]
  },
  {
   "cell_type": "code",
   "execution_count": 36,
   "id": "fdd36b3a",
   "metadata": {},
   "outputs": [
    {
     "name": "stdout",
     "output_type": "stream",
     "text": [
      "The code1 is valid: True\n",
      "The code2 is valid: False\n"
     ]
    }
   ],
   "source": [
    "def check_brackets(code):\n",
    "    stack = []\n",
    "\n",
    "    for char in code:\n",
    "        if char in [\"(\", \"[\", \"{\"]:\n",
    "            stack.append(char)\n",
    "        elif char in [\")\", \"]\", \"}\"]:\n",
    "            if not stack:\n",
    "                return False\n",
    "            open_bracket = stack.pop()\n",
    "            if (open_bracket == \"(\" and char != \")\") or \\\n",
    "               (open_bracket == \"[\" and char != \"]\") or \\\n",
    "               (open_bracket == \"{\" and char != \"}\"):\n",
    "                return False\n",
    "    return not stack\n",
    "\n",
    "code1 = \"(3 + 4) * (5 - 2)\"\n",
    "code2 = \"{a * [b - c) + d]}\"\n",
    "print(\"The code1 is valid:\", check_brackets(code1))\n",
    "print(\"The code2 is valid:\", check_brackets(code2))\n"
   ]
  },
  {
   "cell_type": "code",
   "execution_count": 38,
   "id": "065be80c",
   "metadata": {},
   "outputs": [
    {
     "name": "stdout",
     "output_type": "stream",
     "text": [
      "The reversed stack is: [5, 4, 3, 2, 1]\n"
     ]
    }
   ],
   "source": [
    "def reverse_stack(stack):\n",
    "    \n",
    "    reversed_stack = []\n",
    "\n",
    "    while stack:\n",
    "        element = stack.pop()\n",
    "        reversed_stack.append(element)\n",
    "\n",
    "    return reversed_stack\n",
    "\n",
    "stack = [1, 2, 3, 4, 5]\n",
    "reversed_stack = reverse_stack(stack)\n",
    "print(\"The reversed stack is:\", reversed_stack)\n"
   ]
  },
  {
   "cell_type": "code",
   "execution_count": 43,
   "id": "bad926e1",
   "metadata": {},
   "outputs": [
    {
     "name": "stdout",
     "output_type": "stream",
     "text": [
      "The smallest element in the stack is: 1\n"
     ]
    }
   ],
   "source": [
    "class MinStack:\n",
    "    def __init__(self):\n",
    "        self.stack = []\n",
    "        self.min_element = float('inf')\n",
    "\n",
    "    def push(self, element):\n",
    "        if element < self.min_element:\n",
    "            self.min_element = element\n",
    "        self.stack.append(element)\n",
    "\n",
    "    def pop(self):\n",
    "        popped_element = self.stack.pop()\n",
    "        if popped_element == self.min_element:\n",
    "            self.min_element = min(self.stack, default=float('inf'))\n",
    "        return popped_element\n",
    "\n",
    "    def get_min(self):\n",
    "        return self.min_element\n",
    "\n",
    "stack = MinStack()\n",
    "stack.push(3)\n",
    "stack.push(5)\n",
    "stack.push(2)\n",
    "stack.push(1)\n",
    "print(\"The smallest element in the stack is:\", stack.get_min())\n"
   ]
  },
  {
   "cell_type": "code",
   "execution_count": null,
   "id": "5f2cca24",
   "metadata": {},
   "outputs": [],
   "source": []
  }
 ],
 "metadata": {
  "kernelspec": {
   "display_name": "Python 3 (ipykernel)",
   "language": "python",
   "name": "python3"
  },
  "language_info": {
   "codemirror_mode": {
    "name": "ipython",
    "version": 3
   },
   "file_extension": ".py",
   "mimetype": "text/x-python",
   "name": "python",
   "nbconvert_exporter": "python",
   "pygments_lexer": "ipython3",
   "version": "3.9.13"
  }
 },
 "nbformat": 4,
 "nbformat_minor": 5
}
